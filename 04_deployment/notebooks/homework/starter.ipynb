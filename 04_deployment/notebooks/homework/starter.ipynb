{
 "cells": [
  {
   "cell_type": "code",
   "execution_count": 1,
   "id": "0ef880a0",
   "metadata": {},
   "outputs": [
    {
     "name": "stdout",
     "output_type": "stream",
     "text": [
      "Python 3.9.18\n"
     ]
    }
   ],
   "source": [
    "# Necessary import\n",
    "import pickle\n",
    "import pandas as pd\n",
    "\n",
    "# Python version\n",
    "!python -V"
   ]
  },
  {
   "cell_type": "code",
   "execution_count": 2,
   "id": "2c51efaa",
   "metadata": {},
   "outputs": [
    {
     "name": "stdout",
     "output_type": "stream",
     "text": [
      "scikit-learn==1.5.0\n"
     ]
    }
   ],
   "source": [
    "# Check sci-kit learn version\n",
    "!pip freeze | grep scikit-learn # pip list | grep scikit-learn"
   ]
  },
  {
   "cell_type": "code",
   "execution_count": 3,
   "id": "7836ccfd",
   "metadata": {},
   "outputs": [],
   "source": [
    "# Open the model file\n",
    "with open('model.bin', 'rb') as f_in:\n",
    "    # Load the encoder and the model\n",
    "    dv, model = pickle.load(f_in)"
   ]
  },
  {
   "cell_type": "markdown",
   "id": "4edb6510-aba9-4939-92cb-fa8d635eb812",
   "metadata": {},
   "source": [
    "If any warnings, we should make sure to install the version of scikit-learn used to saved the model:\n",
    "```sh\n",
    "pip install scikit-learn==1.5.0\n",
    "```"
   ]
  },
  {
   "cell_type": "code",
   "execution_count": 4,
   "id": "41c08294",
   "metadata": {},
   "outputs": [],
   "source": [
    "# Set of categrical features\n",
    "categorical = ['PULocationID', 'DOLocationID']\n",
    "\n",
    "# Function for reading the data\n",
    "def read_data(filename):\n",
    "    # Read the parquet file\n",
    "    df = pd.read_parquet(filename)\n",
    "    \n",
    "    # # Feature engineering for creating the duration column\n",
    "    df['duration'] = df.tpep_dropoff_datetime - df.tpep_pickup_datetime\n",
    "    # Convert durations into minutes\n",
    "    df.duration = df.duration.dt.total_seconds() / 60\n",
    "\n",
    "    # Filtering for trips lasting from 1 min to 1 hour\n",
    "    df = df[(df.duration >= 1) & (df.duration <= 60)].copy()\n",
    "\n",
    "    # Fill missing values and conert data type\n",
    "    df[categorical] = df[categorical].fillna(-1).astype('int').astype('str')\n",
    "    \n",
    "    # Return the dataframe\n",
    "    return df"
   ]
  },
  {
   "cell_type": "code",
   "execution_count": 5,
   "id": "4854399a",
   "metadata": {},
   "outputs": [],
   "source": [
    "# Set the date\n",
    "year, month = 2023, 3\n",
    "\n",
    "# Read the Yellow taxi data\n",
    "df = read_data(f'https://d37ci6vzurychx.cloudfront.net/trip-data/yellow_tripdata_{year}-{month:02d}.parquet')"
   ]
  },
  {
   "cell_type": "code",
   "execution_count": 6,
   "id": "669fda0a",
   "metadata": {},
   "outputs": [],
   "source": [
    "# Get the validation data dictionaries\n",
    "dicts = df[categorical].to_dict(orient = 'records')\n",
    "# Encode validation data\n",
    "X_val = dv.transform(dicts)\n",
    "# Make predictions\n",
    "y_pred = model.predict(X_val)"
   ]
  },
  {
   "cell_type": "code",
   "execution_count": 7,
   "id": "60c2f610-e1d6-48f9-87a4-c3bbf4741699",
   "metadata": {},
   "outputs": [
    {
     "name": "stdout",
     "output_type": "stream",
     "text": [
      "Predictions Standard Deviation: 6.25\n"
     ]
    }
   ],
   "source": [
    "# Predictions standard deviation\n",
    "print(f\"Predictions Standard Deviation: {round(y_pred.std(), 2)}\")"
   ]
  },
  {
   "cell_type": "markdown",
   "id": "bf532ae7-1897-428c-ba0c-875ccaf7d76c",
   "metadata": {},
   "source": [
    "---"
   ]
  }
 ],
 "metadata": {
  "kernelspec": {
   "display_name": "mlops-zoomcamp",
   "language": "python",
   "name": "python3"
  },
  "language_info": {
   "codemirror_mode": {
    "name": "ipython",
    "version": 3
   },
   "file_extension": ".py",
   "mimetype": "text/x-python",
   "name": "python",
   "nbconvert_exporter": "python",
   "pygments_lexer": "ipython3",
   "version": "3.9.18"
  }
 },
 "nbformat": 4,
 "nbformat_minor": 5
}
