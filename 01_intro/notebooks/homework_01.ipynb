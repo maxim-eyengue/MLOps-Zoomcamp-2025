{
 "cells": [
  {
   "cell_type": "markdown",
   "id": "602de56f-8d7c-4edb-9560-5c69c535bdf4",
   "metadata": {},
   "source": [
    "# Homework - Module 01\n",
    "\n",
    "The goal of this homework is to train a simple model for predicting the duration of a ride.\n",
    "\n",
    "\n",
    "### Q1. Downloading the data\n",
    "\n",
    "We'll use [the same NYC taxi dataset](https://www1.nyc.gov/site/tlc/about/tlc-trip-record-data.page), but instead of \"**Green** Taxi Trip Records\", we'll use \"**Yellow** Taxi Trip Records\".\n",
    "\n",
    "Let's download the data for January and February 2023:"
   ]
  },
  {
   "cell_type": "code",
   "execution_count": 1,
   "id": "f3c0f7a1-fc4d-4965-8dfc-338dbc58e26a",
   "metadata": {},
   "outputs": [
    {
     "name": "stdout",
     "output_type": "stream",
     "text": [
      "  % Total    % Received % Xferd  Average Speed   Time    Time     Time  Current\n",
      "                                 Dload  Upload   Total   Spent    Left  Speed\n",
      "100 45.4M  100 45.4M    0     0   655k      0  0:01:11  0:01:11 --:--:--  746k\n",
      "  % Total    % Received % Xferd  Average Speed   Time    Time     Time  Current\n",
      "                                 Dload  Upload   Total   Spent    Left  Speed\n",
      "100 45.5M  100 45.5M    0     0   610k      0  0:01:16  0:01:16 --:--:--  545k\n"
     ]
    }
   ],
   "source": [
    "# Download January data\n",
    "!curl -O https://d37ci6vzurychx.cloudfront.net/trip-data/yellow_tripdata_2023-01.parquet\n",
    "# Download February data\n",
    "!curl -O https://d37ci6vzurychx.cloudfront.net/trip-data/yellow_tripdata_2023-02.parquet"
   ]
  },
  {
   "cell_type": "code",
   "execution_count": 2,
   "id": "0d05b495-7d02-48a4-ac40-aa0a705e1b4e",
   "metadata": {},
   "outputs": [
    {
     "name": "stdout",
     "output_type": "stream",
     "text": [
      "-rw-r--r--@ 1 cm-mboulou-mac  staff    45M May 19 17:57 yellow_tripdata_2023-01.parquet\n",
      "-rw-r--r--@ 1 cm-mboulou-mac  staff    46M May 19 17:58 yellow_tripdata_2023-02.parquet\n"
     ]
    }
   ],
   "source": [
    "# List data files\n",
    "!ls -lh yellow*"
   ]
  },
  {
   "cell_type": "code",
   "execution_count": 3,
   "id": "c5397fdd-cf99-44e0-a92e-c21854a65b26",
   "metadata": {},
   "outputs": [
    {
     "name": "stdout",
     "output_type": "stream",
     "text": [
      "Python 3.9.18\n"
     ]
    }
   ],
   "source": [
    "# Necessary import\n",
    "import pandas as pd\n",
    "import numpy as np\n",
    "from sklearn.feature_extraction import DictVectorizer\n",
    "from sklearn.linear_model import LinearRegression\n",
    "from sklearn.metrics import root_mean_squared_error\n",
    "\n",
    "# Python version\n",
    "!python --version"
   ]
  },
  {
   "cell_type": "markdown",
   "id": "9d96297b-3f3d-4b6d-ba14-f0b68a68faf6",
   "metadata": {},
   "source": [
    "Let's read the data for January and check the number of columns:"
   ]
  },
  {
   "cell_type": "code",
   "execution_count": 4,
   "id": "461ef521-55ff-4cc6-8684-1511ff4443c5",
   "metadata": {},
   "outputs": [
    {
     "data": {
      "text/html": [
       "<div>\n",
       "<style scoped>\n",
       "    .dataframe tbody tr th:only-of-type {\n",
       "        vertical-align: middle;\n",
       "    }\n",
       "\n",
       "    .dataframe tbody tr th {\n",
       "        vertical-align: top;\n",
       "    }\n",
       "\n",
       "    .dataframe thead th {\n",
       "        text-align: right;\n",
       "    }\n",
       "</style>\n",
       "<table border=\"1\" class=\"dataframe\">\n",
       "  <thead>\n",
       "    <tr style=\"text-align: right;\">\n",
       "      <th></th>\n",
       "      <th>VendorID</th>\n",
       "      <th>tpep_pickup_datetime</th>\n",
       "      <th>tpep_dropoff_datetime</th>\n",
       "      <th>passenger_count</th>\n",
       "      <th>trip_distance</th>\n",
       "      <th>RatecodeID</th>\n",
       "      <th>store_and_fwd_flag</th>\n",
       "      <th>PULocationID</th>\n",
       "      <th>DOLocationID</th>\n",
       "      <th>payment_type</th>\n",
       "      <th>fare_amount</th>\n",
       "      <th>extra</th>\n",
       "      <th>mta_tax</th>\n",
       "      <th>tip_amount</th>\n",
       "      <th>tolls_amount</th>\n",
       "      <th>improvement_surcharge</th>\n",
       "      <th>total_amount</th>\n",
       "      <th>congestion_surcharge</th>\n",
       "      <th>airport_fee</th>\n",
       "    </tr>\n",
       "  </thead>\n",
       "  <tbody>\n",
       "    <tr>\n",
       "      <th>0</th>\n",
       "      <td>2</td>\n",
       "      <td>2023-01-01 00:32:10</td>\n",
       "      <td>2023-01-01 00:40:36</td>\n",
       "      <td>1.0</td>\n",
       "      <td>0.97</td>\n",
       "      <td>1.0</td>\n",
       "      <td>N</td>\n",
       "      <td>161</td>\n",
       "      <td>141</td>\n",
       "      <td>2</td>\n",
       "      <td>9.3</td>\n",
       "      <td>1.00</td>\n",
       "      <td>0.5</td>\n",
       "      <td>0.00</td>\n",
       "      <td>0.0</td>\n",
       "      <td>1.0</td>\n",
       "      <td>14.30</td>\n",
       "      <td>2.5</td>\n",
       "      <td>0.00</td>\n",
       "    </tr>\n",
       "    <tr>\n",
       "      <th>1</th>\n",
       "      <td>2</td>\n",
       "      <td>2023-01-01 00:55:08</td>\n",
       "      <td>2023-01-01 01:01:27</td>\n",
       "      <td>1.0</td>\n",
       "      <td>1.10</td>\n",
       "      <td>1.0</td>\n",
       "      <td>N</td>\n",
       "      <td>43</td>\n",
       "      <td>237</td>\n",
       "      <td>1</td>\n",
       "      <td>7.9</td>\n",
       "      <td>1.00</td>\n",
       "      <td>0.5</td>\n",
       "      <td>4.00</td>\n",
       "      <td>0.0</td>\n",
       "      <td>1.0</td>\n",
       "      <td>16.90</td>\n",
       "      <td>2.5</td>\n",
       "      <td>0.00</td>\n",
       "    </tr>\n",
       "    <tr>\n",
       "      <th>2</th>\n",
       "      <td>2</td>\n",
       "      <td>2023-01-01 00:25:04</td>\n",
       "      <td>2023-01-01 00:37:49</td>\n",
       "      <td>1.0</td>\n",
       "      <td>2.51</td>\n",
       "      <td>1.0</td>\n",
       "      <td>N</td>\n",
       "      <td>48</td>\n",
       "      <td>238</td>\n",
       "      <td>1</td>\n",
       "      <td>14.9</td>\n",
       "      <td>1.00</td>\n",
       "      <td>0.5</td>\n",
       "      <td>15.00</td>\n",
       "      <td>0.0</td>\n",
       "      <td>1.0</td>\n",
       "      <td>34.90</td>\n",
       "      <td>2.5</td>\n",
       "      <td>0.00</td>\n",
       "    </tr>\n",
       "    <tr>\n",
       "      <th>3</th>\n",
       "      <td>1</td>\n",
       "      <td>2023-01-01 00:03:48</td>\n",
       "      <td>2023-01-01 00:13:25</td>\n",
       "      <td>0.0</td>\n",
       "      <td>1.90</td>\n",
       "      <td>1.0</td>\n",
       "      <td>N</td>\n",
       "      <td>138</td>\n",
       "      <td>7</td>\n",
       "      <td>1</td>\n",
       "      <td>12.1</td>\n",
       "      <td>7.25</td>\n",
       "      <td>0.5</td>\n",
       "      <td>0.00</td>\n",
       "      <td>0.0</td>\n",
       "      <td>1.0</td>\n",
       "      <td>20.85</td>\n",
       "      <td>0.0</td>\n",
       "      <td>1.25</td>\n",
       "    </tr>\n",
       "    <tr>\n",
       "      <th>4</th>\n",
       "      <td>2</td>\n",
       "      <td>2023-01-01 00:10:29</td>\n",
       "      <td>2023-01-01 00:21:19</td>\n",
       "      <td>1.0</td>\n",
       "      <td>1.43</td>\n",
       "      <td>1.0</td>\n",
       "      <td>N</td>\n",
       "      <td>107</td>\n",
       "      <td>79</td>\n",
       "      <td>1</td>\n",
       "      <td>11.4</td>\n",
       "      <td>1.00</td>\n",
       "      <td>0.5</td>\n",
       "      <td>3.28</td>\n",
       "      <td>0.0</td>\n",
       "      <td>1.0</td>\n",
       "      <td>19.68</td>\n",
       "      <td>2.5</td>\n",
       "      <td>0.00</td>\n",
       "    </tr>\n",
       "  </tbody>\n",
       "</table>\n",
       "</div>"
      ],
      "text/plain": [
       "   VendorID tpep_pickup_datetime tpep_dropoff_datetime  passenger_count  \\\n",
       "0         2  2023-01-01 00:32:10   2023-01-01 00:40:36              1.0   \n",
       "1         2  2023-01-01 00:55:08   2023-01-01 01:01:27              1.0   \n",
       "2         2  2023-01-01 00:25:04   2023-01-01 00:37:49              1.0   \n",
       "3         1  2023-01-01 00:03:48   2023-01-01 00:13:25              0.0   \n",
       "4         2  2023-01-01 00:10:29   2023-01-01 00:21:19              1.0   \n",
       "\n",
       "   trip_distance  RatecodeID store_and_fwd_flag  PULocationID  DOLocationID  \\\n",
       "0           0.97         1.0                  N           161           141   \n",
       "1           1.10         1.0                  N            43           237   \n",
       "2           2.51         1.0                  N            48           238   \n",
       "3           1.90         1.0                  N           138             7   \n",
       "4           1.43         1.0                  N           107            79   \n",
       "\n",
       "   payment_type  fare_amount  extra  mta_tax  tip_amount  tolls_amount  \\\n",
       "0             2          9.3   1.00      0.5        0.00           0.0   \n",
       "1             1          7.9   1.00      0.5        4.00           0.0   \n",
       "2             1         14.9   1.00      0.5       15.00           0.0   \n",
       "3             1         12.1   7.25      0.5        0.00           0.0   \n",
       "4             1         11.4   1.00      0.5        3.28           0.0   \n",
       "\n",
       "   improvement_surcharge  total_amount  congestion_surcharge  airport_fee  \n",
       "0                    1.0         14.30                   2.5         0.00  \n",
       "1                    1.0         16.90                   2.5         0.00  \n",
       "2                    1.0         34.90                   2.5         0.00  \n",
       "3                    1.0         20.85                   0.0         1.25  \n",
       "4                    1.0         19.68                   2.5         0.00  "
      ]
     },
     "metadata": {},
     "output_type": "display_data"
    },
    {
     "name": "stdout",
     "output_type": "stream",
     "text": [
      "The data set has 19 columns.\n"
     ]
    }
   ],
   "source": [
    "# Read the data\n",
    "df_jan = pd.read_parquet(\"yellow_tripdata_2023-01.parquet\")\n",
    "# First rows\n",
    "display(df_jan.head())\n",
    "\n",
    "# Number of columns\n",
    "print(f\"The data set has {len(df_jan.columns)} columns.\")"
   ]
  },
  {
   "cell_type": "markdown",
   "id": "50573184-1cb5-4308-b412-5b398d75e5e1",
   "metadata": {},
   "source": [
    " "
   ]
  },
  {
   "cell_type": "markdown",
   "id": "526f41f0-a1ca-410d-8887-c4a11fcd3d66",
   "metadata": {},
   "source": [
    "### Q2. Computing duration\n",
    "\n",
    "Now let's compute the `duration` variable, which should contain the duration of a ride in minutes."
   ]
  },
  {
   "cell_type": "code",
   "execution_count": 5,
   "id": "8438c94c-2a47-4541-8f53-a1ea8130e7cb",
   "metadata": {},
   "outputs": [
    {
     "name": "stdout",
     "output_type": "stream",
     "text": [
      "The standard deviation of the trips duration in January is: 42.594\n"
     ]
    }
   ],
   "source": [
    "# Feature engineering for creating the duration column\n",
    "df_jan[\"duration\"] = df_jan[\"tpep_dropoff_datetime\"] - df_jan[\"tpep_pickup_datetime\"]\n",
    "# Convert durations in minutes\n",
    "df_jan[\"duration\"] = df_jan[\"duration\"].apply(lambda duration_time: duration_time.total_seconds() / 60)\n",
    "\n",
    "# The standard deviation of duration\n",
    "print(\"The standard deviation of the trips duration in January is:\", round(np.std(df_jan[\"duration\"]), 3))"
   ]
  },
  {
   "cell_type": "markdown",
   "id": "50da3c4b-d531-4cf0-89f9-cc7498cb9492",
   "metadata": {},
   "source": [
    "### Q3. Dropping outliers\n",
    "\n",
    "Next, we need to check the distribution of the `duration` variable. There are some outliers. Let's remove them and keep only the records where the duration was between 1 and 60 minutes (inclusive)."
   ]
  },
  {
   "cell_type": "code",
   "execution_count": 6,
   "id": "8c1b4d7f-68f8-4ef8-a776-11c49582e6fe",
   "metadata": {},
   "outputs": [
    {
     "name": "stdout",
     "output_type": "stream",
     "text": [
      "The fraction of the records left after dropping outliers is 98%.\n"
     ]
    }
   ],
   "source": [
    "# Filtering for trips lasting from 1 min to 1 hour\n",
    "df_jan_fil = df_jan[(df_jan[\"duration\"] >= 1) & (df_jan[\"duration\"] <= 60)]\n",
    "\n",
    "# Percentage of data remaining\n",
    "print(f\"The fraction of the records left after dropping outliers is {round(100 * len(df_jan_fil) / len(df_jan))}%.\")"
   ]
  },
  {
   "cell_type": "markdown",
   "id": "1be86fe5-de20-4983-a1b2-b002a19d811e",
   "metadata": {},
   "source": [
    "### Q4. One-hot encoding\n",
    "\n",
    "Let's apply one-hot encoding to the pickup and dropoff location IDs. We'll use only these two features for our model. "
   ]
  },
  {
   "cell_type": "code",
   "execution_count": 7,
   "id": "396f5b5e-aecd-449d-806e-2a1e0283765e",
   "metadata": {},
   "outputs": [
    {
     "name": "stdout",
     "output_type": "stream",
     "text": [
      "Number of columns of the feature matrix: 515.\n"
     ]
    }
   ],
   "source": [
    "# Subset features\n",
    "features = [\"PULocationID\", \"DOLocationID\"]\n",
    "# Train data dictionaries - with ids as strings for one-hot encoding\n",
    "train_dicts = df_jan_fil[features].astype(str).to_dict(orient = 'records')\n",
    "\n",
    "# Initialize the dictionary vectorizer\n",
    "dv = DictVectorizer()\n",
    "# Fit the vectorizer getting a feature matrix\n",
    "X_train = dv.fit_transform(train_dicts)\n",
    "\n",
    "# The dimensionality of the feature matrix\n",
    "print(f\"Number of columns of the feature matrix: {X_train.shape[1]}.\")"
   ]
  },
  {
   "cell_type": "markdown",
   "id": "c47d1f79-8408-4b56-8fc9-c5d349f667a1",
   "metadata": {},
   "source": [
    "### Q5. Training a model\n",
    "\n",
    "Now let's use the feature matrix from the previous step to train a plain linear regression model with default parameters, where duration is the response variable:\n"
   ]
  },
  {
   "cell_type": "code",
   "execution_count": 8,
   "id": "d34b6f2a-a0e4-4519-804b-08e90277f652",
   "metadata": {},
   "outputs": [
    {
     "name": "stdout",
     "output_type": "stream",
     "text": [
      "Training RMSE: 7.649.\n"
     ]
    }
   ],
   "source": [
    "# Target variable\n",
    "target = \"duration\"\n",
    "# Target vector\n",
    "y_train = df_jan_fil[target].values\n",
    "\n",
    "# Initialize linear regressor\n",
    "lr = LinearRegression()\n",
    "# Train model\n",
    "lr.fit(X_train, y_train)\n",
    "\n",
    "# Make training predictions\n",
    "y_pred = lr.predict(X_train)\n",
    "\n",
    "# RMSE on the training data\n",
    "print(f\"Training RMSE: {round(root_mean_squared_error(y_pred, y_train), 3)}.\")"
   ]
  },
  {
   "cell_type": "markdown",
   "id": "858a0059-91f7-47fa-9816-7a72f1e5504b",
   "metadata": {},
   "source": [
    "### Q6. Evaluating the model\n",
    "\n",
    "Now let's apply this model to the validation dataset (February 2023). "
   ]
  },
  {
   "cell_type": "code",
   "execution_count": 9,
   "id": "152a82d9-4ea9-4e24-a9fe-09b3a2744f07",
   "metadata": {},
   "outputs": [
    {
     "name": "stdout",
     "output_type": "stream",
     "text": [
      "Validation RMSE: 7.812.\n"
     ]
    }
   ],
   "source": [
    "# Read the valdation data\n",
    "df_feb = pd.read_parquet(\"yellow_tripdata_2023-02.parquet\")\n",
    "# Feature engineering for creating the duration column\n",
    "df_feb[\"duration\"] = df_feb[\"tpep_dropoff_datetime\"] - df_feb[\"tpep_pickup_datetime\"]\n",
    "# Convert durations in minutes\n",
    "df_feb[\"duration\"] = df_feb[\"duration\"].apply(lambda duration_time: duration_time.total_seconds() / 60)\n",
    "# Filtering for trips lasting from 1 min to 1 hour\n",
    "df_feb_fil = df_feb[(df_feb[\"duration\"] >= 1) & (df_feb[\"duration\"] <= 60)]\n",
    "# Validation data dictionaries\n",
    "val_dicts = df_feb_fil[features].astype(str).to_dict(orient = 'records')\n",
    "# Encode the feature\n",
    "X_val = dv.transform(val_dicts)\n",
    "# Get the target vector\n",
    "y_val = df_feb_fil[target].values\n",
    "\n",
    "# Make predictions\n",
    "y_pred = lr.predict(X_val)\n",
    "\n",
    "# RMSE on the validation data\n",
    "print(f\"Validation RMSE: {round(root_mean_squared_error(y_pred, y_val), 3)}.\")"
   ]
  },
  {
   "cell_type": "markdown",
   "id": "1e2b6a55-6f22-44d6-b5ff-962e6f540f9a",
   "metadata": {},
   "source": [
    "---"
   ]
  }
 ],
 "metadata": {
  "kernelspec": {
   "display_name": "Python 3 (ipykernel)",
   "language": "python",
   "name": "python3"
  },
  "language_info": {
   "codemirror_mode": {
    "name": "ipython",
    "version": 3
   },
   "file_extension": ".py",
   "mimetype": "text/x-python",
   "name": "python",
   "nbconvert_exporter": "python",
   "pygments_lexer": "ipython3",
   "version": "3.9.18"
  }
 },
 "nbformat": 4,
 "nbformat_minor": 5
}
