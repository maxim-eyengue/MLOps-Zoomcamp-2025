{
 "cells": [
  {
   "cell_type": "markdown",
   "metadata": {},
   "source": [
    "## Scenario 3: Multiple data scientists working on multiple ML models\n",
    "\n",
    "MLflow setup:\n",
    "* Tracking server: yes, remote server (EC2).\n",
    "* Backend store: postgresql database.\n",
    "* Artifacts store: s3 bucket.\n",
    "\n",
    "The experiments can be explored by accessing the remote server.\n",
    "\n",
    "The exampe uses AWS to host a remote server. In order to run the example you'll need an AWS account. Follow the steps described in the file [`mlflow-on-aws.md`](../mlflow-on-aws.md) to create a new AWS account and launch the tracking server. "
   ]
  },
  {
   "cell_type": "code",
   "execution_count": 1,
   "metadata": {},
   "outputs": [],
   "source": [
    "# Necessary import\n",
    "import os, mlflow\n",
    "from sklearn.datasets import load_iris\n",
    "from sklearn.metrics import accuracy_score\n",
    "from sklearn.linear_model import LogisticRegression\n",
    "from mlflow.tracking import MlflowClient\n",
    "\n",
    "# Set the environment - no need\n",
    "os.environ[\"AWS_PROFILE\"] = \"magic-maxim\" # fill in with your AWS profile. More info: https://docs.aws.amazon.com/sdk-for-java/latest/developer-guide/setup.html#setup-credentials\n",
    "\n",
    "# AWS server host\n",
    "TRACKING_SERVER_HOST = \"ec2-34-227-105-189.compute-1.amazonaws.com\" # fill in with the public DNS of the EC2 instance\n",
    "# Set the tracking uri\n",
    "mlflow.set_tracking_uri(f\"http://{TRACKING_SERVER_HOST}:5000\")"
   ]
  },
  {
   "cell_type": "code",
   "execution_count": 2,
   "metadata": {},
   "outputs": [
    {
     "name": "stdout",
     "output_type": "stream",
     "text": [
      "tracking URI: 'http://ec2-34-227-105-189.compute-1.amazonaws.com:5000'\n"
     ]
    }
   ],
   "source": [
    "# Get the tracking uri\n",
    "print(f\"tracking URI: '{mlflow.get_tracking_uri()}'\")"
   ]
  },
  {
   "cell_type": "code",
   "execution_count": 3,
   "metadata": {},
   "outputs": [
    {
     "data": {
      "text/plain": [
       "[<Experiment: artifact_location='s3://mlflow-runs-artifacts-remote/0', creation_time=1748187695131, experiment_id='0', last_update_time=1748187695131, lifecycle_stage='active', name='Default', tags={}>]"
      ]
     },
     "execution_count": 3,
     "metadata": {},
     "output_type": "execute_result"
    }
   ],
   "source": [
    "# List experiments\n",
    "mlflow.search_experiments() # list_experiments API has been removed, you can use search_experiments instead.()"
   ]
  },
  {
   "cell_type": "markdown",
   "metadata": {},
   "source": [
    "## Creating an experiment and logging a new run"
   ]
  },
  {
   "cell_type": "code",
   "execution_count": 4,
   "metadata": {},
   "outputs": [
    {
     "name": "stderr",
     "output_type": "stream",
     "text": [
      "2025/05/25 17:21:49 INFO mlflow.tracking.fluent: Experiment with name 'my-remote-experiment' does not exist. Creating a new experiment.\n",
      "\u001b[31m2025/05/25 17:21:53 WARNING mlflow.models.model: Model logged without a signature and input example. Please set `input_example` parameter when logging the model to auto infer the model signature.\u001b[0m\n"
     ]
    },
    {
     "name": "stdout",
     "output_type": "stream",
     "text": [
      "default artifacts URI: 's3://mlflow-runs-artifacts-remote/2/aca1bc60ae77489e9d5b09aae848806c/artifacts'\n",
      "🏃 View run carefree-shark-824 at: http://ec2-34-227-105-189.compute-1.amazonaws.com:5000/#/experiments/2/runs/aca1bc60ae77489e9d5b09aae848806c\n",
      "🧪 View experiment at: http://ec2-34-227-105-189.compute-1.amazonaws.com:5000/#/experiments/2\n"
     ]
    }
   ],
   "source": [
    "# Set a ML experiment\n",
    "mlflow.set_experiment(\"my-remote-experiment\")\n",
    "\n",
    "# Start an experiment run \n",
    "with mlflow.start_run():\n",
    "    # Load the iris data set features and target\n",
    "    X, y = load_iris(return_X_y = True)\n",
    "\n",
    "    # Model parameters\n",
    "    params = {\"C\": 0.1, \"random_state\": 42}\n",
    "    # Log the model parameters\n",
    "    mlflow.log_params(params)\n",
    "\n",
    "    # Initialize and train the logistic model\n",
    "    lr = LogisticRegression(**params).fit(X, y)\n",
    "    # Make predictions\n",
    "    y_pred = lr.predict(X)\n",
    "    # Log the model accuracy\n",
    "    mlflow.log_metric(\"accuracy\", accuracy_score(y, y_pred))\n",
    "\n",
    "    # Log the model\n",
    "    mlflow.sklearn.log_model(lr, artifact_path = \"models\")\n",
    "    # Check the mlfow artiact uri\n",
    "    print(f\"default artifacts URI: '{mlflow.get_artifact_uri()}'\")\n"
   ]
  },
  {
   "cell_type": "code",
   "execution_count": 5,
   "metadata": {},
   "outputs": [
    {
     "data": {
      "text/plain": [
       "[<Experiment: artifact_location='s3://mlflow-runs-artifacts-remote/2', creation_time=1748190109625, experiment_id='2', last_update_time=1748190109625, lifecycle_stage='active', name='my-remote-experiment', tags={}>,\n",
       " <Experiment: artifact_location='s3://mlflow-runs-artifacts-remote/0', creation_time=1748187695131, experiment_id='0', last_update_time=1748187695131, lifecycle_stage='active', name='Default', tags={}>]"
      ]
     },
     "execution_count": 5,
     "metadata": {},
     "output_type": "execute_result"
    }
   ],
   "source": [
    "# Show the updated lists of experiments\n",
    "mlflow.search_experiments()"
   ]
  },
  {
   "cell_type": "markdown",
   "metadata": {},
   "source": [
    "## Interacting with the model registry"
   ]
  },
  {
   "cell_type": "code",
   "execution_count": 6,
   "metadata": {},
   "outputs": [],
   "source": [
    "# Create an mlflow client\n",
    "client = MlflowClient(f\"http://{TRACKING_SERVER_HOST}:5000\")"
   ]
  },
  {
   "cell_type": "code",
   "execution_count": 7,
   "metadata": {},
   "outputs": [
    {
     "data": {
      "text/plain": [
       "[]"
      ]
     },
     "execution_count": 7,
     "metadata": {},
     "output_type": "execute_result"
    }
   ],
   "source": [
    "# List registered models\n",
    "client.search_registered_models()"
   ]
  },
  {
   "cell_type": "code",
   "execution_count": 8,
   "metadata": {},
   "outputs": [
    {
     "name": "stderr",
     "output_type": "stream",
     "text": [
      "Successfully registered model 'iris-classifier'.\n",
      "2025/05/25 17:22:49 INFO mlflow.store.model_registry.abstract_store: Waiting up to 300 seconds for model version to finish creation. Model name: iris-classifier, version 1\n",
      "Created version '1' of model 'iris-classifier'.\n"
     ]
    },
    {
     "data": {
      "text/plain": [
       "<ModelVersion: aliases=[], creation_timestamp=1748190170285, current_stage='None', description='', last_updated_timestamp=1748190170285, name='iris-classifier', run_id='aca1bc60ae77489e9d5b09aae848806c', run_link='', source='s3://mlflow-runs-artifacts-remote/2/aca1bc60ae77489e9d5b09aae848806c/artifacts/models', status='READY', status_message=None, tags={}, user_id='', version='1'>"
      ]
     },
     "execution_count": 8,
     "metadata": {},
     "output_type": "execute_result"
    }
   ],
   "source": [
    "# Get the information about the first experiment run\n",
    "run_id = client.search_runs(experiment_ids = '2')[0].info.run_id\n",
    "# Register a model\n",
    "mlflow.register_model(\n",
    "    model_uri = f\"runs:/{run_id}/models\",\n",
    "    name = 'iris-classifier'\n",
    ")"
   ]
  },
  {
   "cell_type": "markdown",
   "metadata": {},
   "source": [
    "---"
   ]
  }
 ],
 "metadata": {
  "interpreter": {
   "hash": "0848c9d6c7d415ad6c477ff7ff8e98694d1a4aa96d0deee89244642e6b630036"
  },
  "kernelspec": {
   "display_name": "Python 3 (ipykernel)",
   "language": "python",
   "name": "python3"
  },
  "language_info": {
   "codemirror_mode": {
    "name": "ipython",
    "version": 3
   },
   "file_extension": ".py",
   "mimetype": "text/x-python",
   "name": "python",
   "nbconvert_exporter": "python",
   "pygments_lexer": "ipython3",
   "version": "3.9.18"
  }
 },
 "nbformat": 4,
 "nbformat_minor": 4
}
