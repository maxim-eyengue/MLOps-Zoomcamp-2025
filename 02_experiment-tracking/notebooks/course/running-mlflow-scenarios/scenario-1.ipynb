{
 "cells": [
  {
   "cell_type": "markdown",
   "metadata": {},
   "source": [
    "# Scenario 1: A single data scientist participating in an ML competition\n",
    "\n",
    "MLflow setup:\n",
    "* Tracking server: no\n",
    "* Backend store: local filesystem\n",
    "* Artifacts store: local filesystem\n",
    "\n",
    "The experiments can be explored locally by launching the MLflow UI."
   ]
  },
  {
   "cell_type": "code",
   "execution_count": 1,
   "metadata": {},
   "outputs": [],
   "source": [
    "# Necessary import\n",
    "import mlflow\n",
    "from sklearn.datasets import load_iris\n",
    "from sklearn.metrics import accuracy_score\n",
    "from sklearn.linear_model import LogisticRegression\n",
    "from mlflow.tracking import MlflowClient\n",
    "from mlflow.exceptions import MlflowException"
   ]
  },
  {
   "cell_type": "code",
   "execution_count": 2,
   "metadata": {},
   "outputs": [
    {
     "name": "stdout",
     "output_type": "stream",
     "text": [
      "tracking URI: 'file:///Users/cm-mboulou-mac/Dvt/MLOps-Zoomcamp-2025/02_experiment-tracking/notebooks/course/running-mlflow-scenarios/mlruns'\n"
     ]
    }
   ],
   "source": [
    "# Get the tracking uri\n",
    "print(f\"tracking URI: '{mlflow.get_tracking_uri()}'\") # assumed by default to be local"
   ]
  },
  {
   "cell_type": "code",
   "execution_count": 3,
   "metadata": {},
   "outputs": [
    {
     "data": {
      "text/plain": [
       "[<Experiment: artifact_location='file:///Users/cm-mboulou-mac/Dvt/MLOps-Zoomcamp-2025/02_experiment-tracking/notebooks/course/running-mlflow-scenarios/mlruns/0', creation_time=1748177964321, experiment_id='0', last_update_time=1748177964321, lifecycle_stage='active', name='Default', tags={}>]"
      ]
     },
     "execution_count": 3,
     "metadata": {},
     "output_type": "execute_result"
    }
   ],
   "source": [
    "# List experiments\n",
    "mlflow.search_experiments()"
   ]
  },
  {
   "cell_type": "markdown",
   "metadata": {},
   "source": [
    "## Creating an experiment and logging a new run"
   ]
  },
  {
   "cell_type": "code",
   "execution_count": 4,
   "metadata": {},
   "outputs": [
    {
     "name": "stderr",
     "output_type": "stream",
     "text": [
      "2025/05/25 13:59:24 INFO mlflow.tracking.fluent: Experiment with name 'my-experiment-1' does not exist. Creating a new experiment.\n",
      "\u001b[31m2025/05/25 13:59:26 WARNING mlflow.models.model: Model logged without a signature and input example. Please set `input_example` parameter when logging the model to auto infer the model signature.\u001b[0m\n"
     ]
    },
    {
     "name": "stdout",
     "output_type": "stream",
     "text": [
      "default artifacts URI: 'file:///Users/cm-mboulou-mac/Dvt/MLOps-Zoomcamp-2025/02_experiment-tracking/notebooks/course/running-mlflow-scenarios/mlruns/882438755740721358/7708f619bf4b410189e5bad2bcc05fe6/artifacts'\n"
     ]
    }
   ],
   "source": [
    "# Set a ML experiment\n",
    "mlflow.set_experiment(\"my-experiment-1\")\n",
    "\n",
    "# Start an experiment run \n",
    "with mlflow.start_run():\n",
    "    # Load the iris data set features and target\n",
    "    X, y = load_iris(return_X_y = True)\n",
    "\n",
    "    # Model parameters\n",
    "    params = {\"C\": 0.1, \"random_state\": 42}\n",
    "    # Log the model parameters\n",
    "    mlflow.log_params(params)\n",
    "\n",
    "    # Initialize and train the logistic model\n",
    "    lr = LogisticRegression(**params).fit(X, y)\n",
    "    # Make predictions\n",
    "    y_pred = lr.predict(X)\n",
    "    # Log the model accuracy\n",
    "    mlflow.log_metric(\"accuracy\", accuracy_score(y, y_pred))\n",
    "\n",
    "    # Log the model\n",
    "    mlflow.sklearn.log_model(lr, artifact_path = \"models\")\n",
    "    # Check the mlfow artiact uri\n",
    "    print(f\"default artifacts URI: '{mlflow.get_artifact_uri()}'\")"
   ]
  },
  {
   "cell_type": "code",
   "execution_count": 5,
   "metadata": {},
   "outputs": [
    {
     "data": {
      "text/plain": [
       "[<Experiment: artifact_location='file:///Users/cm-mboulou-mac/Dvt/MLOps-Zoomcamp-2025/02_experiment-tracking/notebooks/course/running-mlflow-scenarios/mlruns/882438755740721358', creation_time=1748177964331, experiment_id='882438755740721358', last_update_time=1748177964331, lifecycle_stage='active', name='my-experiment-1', tags={}>,\n",
       " <Experiment: artifact_location='file:///Users/cm-mboulou-mac/Dvt/MLOps-Zoomcamp-2025/02_experiment-tracking/notebooks/course/running-mlflow-scenarios/mlruns/0', creation_time=1748177964321, experiment_id='0', last_update_time=1748177964321, lifecycle_stage='active', name='Default', tags={}>]"
      ]
     },
     "execution_count": 5,
     "metadata": {},
     "output_type": "execute_result"
    }
   ],
   "source": [
    "# Show the updated list of experiments\n",
    "mlflow.search_experiments()"
   ]
  },
  {
   "cell_type": "markdown",
   "metadata": {},
   "source": [
    "\n",
    "## Interacting with the model registry"
   ]
  },
  {
   "cell_type": "code",
   "execution_count": 6,
   "metadata": {},
   "outputs": [],
   "source": [
    "# Create an mlflow client\n",
    "client = MlflowClient()"
   ]
  },
  {
   "cell_type": "code",
   "execution_count": 7,
   "metadata": {},
   "outputs": [
    {
     "name": "stdout",
     "output_type": "stream",
     "text": [
      "[]\n"
     ]
    }
   ],
   "source": [
    "# Try accessing the model registry\n",
    "try:\n",
    "    print(client.search_registered_models()) # list registered models\n",
    "except MlflowException: # if error as we are using our local filesystem as backend stroe \n",
    "    print(\"It's not possible to access the model registry :(\")"
   ]
  },
  {
   "cell_type": "markdown",
   "metadata": {},
   "source": [
    "---"
   ]
  }
 ],
 "metadata": {
  "interpreter": {
   "hash": "0848c9d6c7d415ad6c477ff7ff8e98694d1a4aa96d0deee89244642e6b630036"
  },
  "kernelspec": {
   "display_name": "Python 3 (ipykernel)",
   "language": "python",
   "name": "python3"
  },
  "language_info": {
   "codemirror_mode": {
    "name": "ipython",
    "version": 3
   },
   "file_extension": ".py",
   "mimetype": "text/x-python",
   "name": "python",
   "nbconvert_exporter": "python",
   "pygments_lexer": "ipython3",
   "version": "3.9.18"
  }
 },
 "nbformat": 4,
 "nbformat_minor": 4
}
