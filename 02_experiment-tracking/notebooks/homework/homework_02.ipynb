{
 "cells": [
  {
   "cell_type": "markdown",
   "id": "602de56f-8d7c-4edb-9560-5c69c535bdf4",
   "metadata": {},
   "source": [
    "# Homework - Module 02\n",
    "\n",
    "The goal of this homework is to get familiar with MLflow, the tool for experiment tracking and model management.\n",
    "\n",
    "\n",
    "### Q1. Install MLflow\n",
    "\n",
    "To get started with MLflow we need the MLflow Python package.\n",
    "\n",
    "For this we've already created a separate Python environment, using [conda environments](https://docs.conda.io/projects/conda/en/latest/user-guide/getting-started.html#managing-envs), and installed the package with `pip` or `conda`.\n",
    "\n",
    "Let's check the version with the command `mlflow --version`:"
   ]
  },
  {
   "cell_type": "code",
   "execution_count": 1,
   "id": "df92c072-cbdb-40fc-bd29-91890182bdff",
   "metadata": {},
   "outputs": [
    {
     "name": "stdout",
     "output_type": "stream",
     "text": [
      "mlflow, version 2.22.0\n"
     ]
    }
   ],
   "source": [
    "# Check the mlflow version:\n",
    "!mlflow --version"
   ]
  },
  {
   "cell_type": "markdown",
   "id": "526f41f0-a1ca-410d-8887-c4a11fcd3d66",
   "metadata": {},
   "source": [
    "### Q2. Download and preprocess the data\n",
    "\n",
    "We'll use the Green Taxi Trip Records dataset to predict the duration of each trip. \n",
    "\n",
    "Let's download the data for January, February and March 2023 in parquet format from [here](https://www1.nyc.gov/site/tlc/about/tlc-trip-record-data.page)."
   ]
  },
  {
   "cell_type": "code",
   "execution_count": 2,
   "id": "f3c0f7a1-fc4d-4965-8dfc-338dbc58e26a",
   "metadata": {},
   "outputs": [
    {
     "name": "stdout",
     "output_type": "stream",
     "text": [
      "  % Total    % Received % Xferd  Average Speed   Time    Time     Time  Current\n",
      "                                 Dload  Upload   Total   Spent    Left  Speed\n",
      "100 1393k  100 1393k    0     0   478k      0  0:00:02  0:00:02 --:--:--  478k\n",
      "  % Total    % Received % Xferd  Average Speed   Time    Time     Time  Current\n",
      "                                 Dload  Upload   Total   Spent    Left  Speed\n",
      "100 1497k  100 1497k    0     0   767k      0  0:00:01  0:00:01 --:--:--  766k\n",
      "  % Total    % Received % Xferd  Average Speed   Time    Time     Time  Current\n",
      "                                 Dload  Upload   Total   Spent    Left  Speed\n",
      "100 1690k  100 1690k    0     0   451k      0  0:00:03  0:00:03 --:--:--  451k\n"
     ]
    }
   ],
   "source": [
    "# Download January data\n",
    "!curl -O https://d37ci6vzurychx.cloudfront.net/trip-data/green_tripdata_2023-01.parquet\n",
    "# Download February data\n",
    "!curl -O https://d37ci6vzurychx.cloudfront.net/trip-data/green_tripdata_2023-02.parquet\n",
    "# Download March data\n",
    "!curl -O https://d37ci6vzurychx.cloudfront.net/trip-data/green_tripdata_2023-03.parquet"
   ]
  },
  {
   "cell_type": "code",
   "execution_count": 3,
   "id": "0d05b495-7d02-48a4-ac40-aa0a705e1b4e",
   "metadata": {},
   "outputs": [
    {
     "name": "stdout",
     "output_type": "stream",
     "text": [
      "-rw-r--r--@ 1 cm-mboulou-mac  staff   1.4M May 27 21:56 green_tripdata_2023-01.parquet\n",
      "-rw-r--r--@ 1 cm-mboulou-mac  staff   1.5M May 27 21:56 green_tripdata_2023-02.parquet\n",
      "-rw-r--r--@ 1 cm-mboulou-mac  staff   1.7M May 27 21:56 green_tripdata_2023-03.parquet\n"
     ]
    }
   ],
   "source": [
    "# List data files\n",
    "!ls -lh green*"
   ]
  },
  {
   "cell_type": "markdown",
   "id": "e40f3c82-fbf4-44a4-bef2-391b3272ebc7",
   "metadata": {},
   "source": [
    "We will then use the script `preprocess_data.py` to preprocess the data.\n",
    "\n",
    "The script will:\n",
    "\n",
    "* load the data from the folder `<TAXI_DATA_FOLDER>` (the folder where the data was downloaded),\n",
    "* fit a `DictVectorizer` on the training set (January 2023 data),\n",
    "* save the preprocessed datasets and the `DictVectorizer` to disk.\n",
    "\n",
    "We will execute the script using the following command:\n",
    "\n",
    "```\n",
    "python preprocess_data.py --raw_data_path <TAXI_DATA_FOLDER> --dest_path ./output\n",
    "```"
   ]
  },
  {
   "cell_type": "code",
   "execution_count": 4,
   "id": "a4e94bd1-460d-4bc2-8232-230c68a58929",
   "metadata": {},
   "outputs": [],
   "source": [
    "# Preprocess the data\n",
    "!python preprocess_data.py --raw_data_path ./ --dest_path ./output"
   ]
  },
  {
   "cell_type": "code",
   "execution_count": 5,
   "id": "fcff789a-1d39-4a3f-98de-a00a418651a8",
   "metadata": {},
   "outputs": [
    {
     "name": "stdout",
     "output_type": "stream",
     "text": [
      "dv.pkl    test.pkl  train.pkl val.pkl\n"
     ]
    }
   ],
   "source": [
    "# List files in the `OUTPUT_FOLDER`\n",
    "!ls output"
   ]
  },
  {
   "cell_type": "markdown",
   "id": "c8079f64-0bee-4450-a056-0f27f9b612a5",
   "metadata": {},
   "source": [
    "`4` files were saved to `OUTPUT_FOLDER`."
   ]
  },
  {
   "cell_type": "markdown",
   "id": "50da3c4b-d531-4cf0-89f9-cc7498cb9492",
   "metadata": {},
   "source": [
    "### Q3. Train a model with autolog\n",
    "\n",
    "We will train a `RandomForestRegressor` (from Scikit-Learn) on the taxi dataset. We have prepared the training script `train.py` for this exercise. \n",
    "\n",
    "The script will:\n",
    "* load the datasets produced by the previous step,\n",
    "* train the model on the training set,\n",
    "* calculate the RMSE score on the validation set.\n",
    "\n",
    "We need to modify the script to enable **autologging** with MLflow, execute the script and then launch the MLflow UI (`mlflow ui`) to check that the experiment run was properly tracked. \n",
    "\n",
    "Tip 1: don't forget to wrap the training code with a `with mlflow.start_run():` statement as we showed in the videos.\n",
    "\n",
    "Tip 2: don't modify the hyperparameters of the model to make sure that the training will finish quickly."
   ]
  },
  {
   "cell_type": "code",
   "execution_count": 6,
   "id": "8c1b4d7f-68f8-4ef8-a776-11c49582e6fe",
   "metadata": {},
   "outputs": [
    {
     "name": "stdout",
     "output_type": "stream",
     "text": [
      "2025/05/27 21:56:58 INFO mlflow.tracking.fluent: Experiment with name 'my-experiment-1' does not exist. Creating a new experiment.\n"
     ]
    }
   ],
   "source": [
    "# Run the training script\n",
    "!python train.py"
   ]
  },
  {
   "cell_type": "markdown",
   "id": "ea9467e5-0852-448b-8c87-87f5e224f686",
   "metadata": {},
   "source": [
    "The value of the `min_samples_split` parameter is `2`."
   ]
  },
  {
   "cell_type": "markdown",
   "id": "1be86fe5-de20-4983-a1b2-b002a19d811e",
   "metadata": {},
   "source": [
    "### Q4. Launch the tracking server locally\n",
    "\n",
    "Now we want to manage the entire lifecycle of our ML model. In this step, you'll need to launch a tracking server. This way we will also have access to the model registry. \n",
    "\n",
    "We will:\n",
    "\n",
    "* launch the tracking server on our local machine,\n",
    "* select a SQLite db for the backend store and a folder called `artifacts` for the artifacts store.\n",
    "\n",
    "You should keep the tracking server running to work on the next two exercises that use the server.\n",
    "\n",
    "In addition to `backend-store-uri`, to properly configure the server, we also need to pass: `default-artifact-root`.\n",
    "\n",
    "The command to run in our terminal is the folllowing:\n",
    "`mlflow server --backend-store-uri sqlite:///backend.db --default-artifact-root ./artifacts`"
   ]
  },
  {
   "cell_type": "markdown",
   "id": "c47d1f79-8408-4b56-8fc9-c5d349f667a1",
   "metadata": {},
   "source": [
    "### Q5. Tune model hyperparameters\n",
    "\n",
    "Now let's try to reduce the validation error by tuning the hyperparameters of the `RandomForestRegressor` using `hyperopt`. We will use the script `hpo.py` for this exercise. \n",
    "\n",
    "We need to modify the script `hpo.py` to make sure that the validation RMSE is logged to the tracking server for each run of the hyperparameter optimization (we will need to add a few lines of code to the `objective` function) and run the script without passing any parameters.\n",
    "\n",
    "After that, we will check everything went well by opening the UI and exploring the runs from the experiment called `random-forest-hyperopt`.\n",
    "\n",
    "Only should be logged:\n",
    "* the list of hyperparameters that are passed to the `objective` function during the optimization,\n",
    "* the RMSE obtained on the validation set (February 2023 data)."
   ]
  },
  {
   "cell_type": "code",
   "execution_count": 7,
   "id": "d34b6f2a-a0e4-4519-804b-08e90277f652",
   "metadata": {},
   "outputs": [
    {
     "name": "stdout",
     "output_type": "stream",
     "text": [
      "2025/05/27 21:58:44 INFO mlflow.tracking.fluent: Experiment with name 'random-forest-hyperopt' does not exist. Creating a new experiment.\n",
      "🏃 View run amazing-grouse-40 at: http://127.0.0.1:5000/#/experiments/1/runs/93e810ab1c97483580488df6182d5f2c\n",
      "\n",
      "🧪 View experiment at: http://127.0.0.1:5000/#/experiments/1                    \n",
      "\n",
      "🏃 View run unique-boar-752 at: http://127.0.0.1:5000/#/experiments/1/runs/3d94a1c6c2aa46b0b2e2e9b875985de2\n",
      "\n",
      "🧪 View experiment at: http://127.0.0.1:5000/#/experiments/1                    \n",
      "\n",
      "🏃 View run resilient-crab-800 at: http://127.0.0.1:5000/#/experiments/1/runs/5dcc2568026746c4b6fbc8773b11d4a6\n",
      "\n",
      "🧪 View experiment at: http://127.0.0.1:5000/#/experiments/1                    \n",
      "\n",
      "🏃 View run rumbling-stork-674 at: http://127.0.0.1:5000/#/experiments/1/runs/2cac75a34f9d41a0bd24fa6b08cc7c10\n",
      "\n",
      "🧪 View experiment at: http://127.0.0.1:5000/#/experiments/1                    \n",
      "\n",
      "🏃 View run upbeat-cod-595 at: http://127.0.0.1:5000/#/experiments/1/runs/ae562cce02e44ae89326b7639559245f\n",
      "\n",
      "🧪 View experiment at: http://127.0.0.1:5000/#/experiments/1                    \n",
      "\n",
      "🏃 View run luminous-squirrel-56 at: http://127.0.0.1:5000/#/experiments/1/runs/729cf08fd80c43bf9416e193fbcd8070\n",
      "\n",
      "🧪 View experiment at: http://127.0.0.1:5000/#/experiments/1                    \n",
      "\n",
      "🏃 View run magnificent-gnat-429 at: http://127.0.0.1:5000/#/experiments/1/runs/8b25a25fa56b4963b4802d4ce1390dc5\n",
      "\n",
      "🧪 View experiment at: http://127.0.0.1:5000/#/experiments/1                    \n",
      "\n",
      "🏃 View run incongruous-bird-228 at: http://127.0.0.1:5000/#/experiments/1/runs/ff99476e37d24622b683f515dd9f1cec\n",
      "\n",
      "🧪 View experiment at: http://127.0.0.1:5000/#/experiments/1                    \n",
      "\n",
      "🏃 View run rebellious-newt-263 at: http://127.0.0.1:5000/#/experiments/1/runs/89844926b3744ea3b1131d56094c8484\n",
      "\n",
      "🧪 View experiment at: http://127.0.0.1:5000/#/experiments/1                    \n",
      "\n",
      "🏃 View run abrasive-hound-600 at: http://127.0.0.1:5000/#/experiments/1/runs/7deccc5ef628487db9e5fd2d62f20cf4\n",
      "\n",
      "🧪 View experiment at: http://127.0.0.1:5000/#/experiments/1                    \n",
      "\n",
      "🏃 View run fearless-shad-708 at: http://127.0.0.1:5000/#/experiments/1/runs/c17c5d061db34c6b92a01f83a15f0cb8\n",
      "\n",
      "🧪 View experiment at: http://127.0.0.1:5000/#/experiments/1                    \n",
      "\n",
      "🏃 View run ambitious-asp-142 at: http://127.0.0.1:5000/#/experiments/1/runs/3d36118f5492442fa7c8620f9d361c8f\n",
      "\n",
      "🧪 View experiment at: http://127.0.0.1:5000/#/experiments/1                    \n",
      "\n",
      "🏃 View run kindly-roo-833 at: http://127.0.0.1:5000/#/experiments/1/runs/f4701f5134c54a768be3f0517daa564f\n",
      "\n",
      "🧪 View experiment at: http://127.0.0.1:5000/#/experiments/1                    \n",
      "\n",
      "🏃 View run clean-frog-253 at: http://127.0.0.1:5000/#/experiments/1/runs/7c3cbcc4209e41d5a516e68c3818218e\n",
      "\n",
      "🧪 View experiment at: http://127.0.0.1:5000/#/experiments/1                    \n",
      "\n",
      "🏃 View run calm-ox-288 at: http://127.0.0.1:5000/#/experiments/1/runs/c32e286fdae74ef2992a43c72fb3397f\n",
      "\n",
      "🧪 View experiment at: http://127.0.0.1:5000/#/experiments/1                    \n",
      "\n",
      "100%|██████████| 15/15 [00:28<00:00,  1.89s/trial, best loss: 5.335419588556921]\n"
     ]
    }
   ],
   "source": [
    "# Run the hyper-parameter tuning script\n",
    "!python hpo.py"
   ]
  },
  {
   "cell_type": "markdown",
   "id": "85401087-c1a7-4b94-a4e7-cc4405967d2c",
   "metadata": {},
   "source": [
    "The best validation RMSE obtained is `5.335`."
   ]
  },
  {
   "cell_type": "markdown",
   "id": "858a0059-91f7-47fa-9816-7a72f1e5504b",
   "metadata": {},
   "source": [
    "### Q6. Promote the best model to the model registry\n",
    "\n",
    "The results from the hyperparameter optimization are quite good. So, we can assume that we are ready to test some of these models in production. \n",
    "\n",
    "In this exercise, we'll promote the best model to the model registry. We have prepared a script called `register_model.py`, which will check the results from the previous step and select the top 5 runs. After that, it will calculate the RMSE of those models on the test set (March 2023 data) and save the results to a new experiment called `random-forest-best-models`.\n",
    "\n",
    "We will update the script `register_model.py` so that it selects the model with the lowest RMSE on the test set and registers it to the model registry.\n",
    "\n",
    "Tip 1: we can use the method `search_runs` from the `MlflowClient` to get the model with the lowest RMSE,\n",
    "\n",
    "Tip 2: to register the model we can use the method `mlflow.register_model` and will need to pass the right `model_uri` in the form of a string that looks like this: `\"runs:/<RUN_ID>/model\"`, and the name of the model."
   ]
  },
  {
   "cell_type": "code",
   "execution_count": 8,
   "id": "152a82d9-4ea9-4e24-a9fe-09b3a2744f07",
   "metadata": {},
   "outputs": [
    {
     "name": "stdout",
     "output_type": "stream",
     "text": [
      "2025/05/27 22:02:03 INFO mlflow.tracking.fluent: Experiment with name 'random-forest-best-models' does not exist. Creating a new experiment.\n",
      "🏃 View run painted-crow-963 at: http://127.0.0.1:5000/#/experiments/2/runs/12a33f17a89b47bd9a85554d38367392\n",
      "🧪 View experiment at: http://127.0.0.1:5000/#/experiments/2\n",
      "🏃 View run sneaky-ram-822 at: http://127.0.0.1:5000/#/experiments/2/runs/1b8786f49406414baceece301e77c591\n",
      "🧪 View experiment at: http://127.0.0.1:5000/#/experiments/2\n",
      "🏃 View run mercurial-mare-277 at: http://127.0.0.1:5000/#/experiments/2/runs/d9a4826644154fbfb96b9d7d1626f75d\n",
      "🧪 View experiment at: http://127.0.0.1:5000/#/experiments/2\n",
      "🏃 View run handsome-shoat-541 at: http://127.0.0.1:5000/#/experiments/2/runs/8a492581667a4018a09ef2eeeb8927ea\n",
      "🧪 View experiment at: http://127.0.0.1:5000/#/experiments/2\n",
      "🏃 View run omniscient-finch-94 at: http://127.0.0.1:5000/#/experiments/2/runs/19f9ee559a674b59aad82323a498da5d\n",
      "🧪 View experiment at: http://127.0.0.1:5000/#/experiments/2\n",
      "Successfully registered model 'nyc-green-taxi-regressor'.\n",
      "2025/05/27 22:02:36 INFO mlflow.store.model_registry.abstract_store: Waiting up to 300 seconds for model version to finish creation. Model name: nyc-green-taxi-regressor, version 1\n",
      "Created version '1' of model 'nyc-green-taxi-regressor'.\n"
     ]
    }
   ],
   "source": [
    "# Register the model\n",
    "!python register_model.py"
   ]
  },
  {
   "cell_type": "markdown",
   "id": "a9680447-c7d3-465c-853d-2feb850c00ed",
   "metadata": {},
   "source": [
    "The test RMSE of the best model is `5.567`."
   ]
  },
  {
   "cell_type": "markdown",
   "id": "1e2b6a55-6f22-44d6-b5ff-962e6f540f9a",
   "metadata": {},
   "source": [
    "---"
   ]
  }
 ],
 "metadata": {
  "kernelspec": {
   "display_name": "Python 3 (ipykernel)",
   "language": "python",
   "name": "python3"
  },
  "language_info": {
   "codemirror_mode": {
    "name": "ipython",
    "version": 3
   },
   "file_extension": ".py",
   "mimetype": "text/x-python",
   "name": "python",
   "nbconvert_exporter": "python",
   "pygments_lexer": "ipython3",
   "version": "3.9.18"
  }
 },
 "nbformat": 4,
 "nbformat_minor": 5
}
