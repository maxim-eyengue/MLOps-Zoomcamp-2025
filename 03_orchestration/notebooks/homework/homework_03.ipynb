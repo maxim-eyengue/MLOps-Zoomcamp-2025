{
 "cells": [
  {
   "cell_type": "markdown",
   "id": "602de56f-8d7c-4edb-9560-5c69c535bdf4",
   "metadata": {},
   "source": [
    "# Homework - Module 03\n",
    "\n",
    "The goal of this homework is to create a simple training pipeline, use mlflow to track experiments and register best model, but use an orchestration tool for it.\n",
    "\n",
    "We'll use [the same NYC taxi dataset](https://www1.nyc.gov/site/tlc/about/tlc-trip-record-data.page), the **Yellow** taxi data for March, 2023. \n",
    "\n",
    "### Question 1. Select the Tool\n",
    "\n",
    "We will use the same tool you used when completing the module: `Prefect`."
   ]
  },
  {
   "cell_type": "markdown",
   "id": "526f41f0-a1ca-410d-8887-c4a11fcd3d66",
   "metadata": {},
   "source": [
    "### Question 2. Version\n",
    "\n",
    "The version of our orchestrator is:"
   ]
  },
  {
   "cell_type": "code",
   "execution_count": 1,
   "id": "f3c0f7a1-fc4d-4965-8dfc-338dbc58e26a",
   "metadata": {},
   "outputs": [
    {
     "name": "stdout",
     "output_type": "stream",
     "text": [
      "3.4.6\n"
     ]
    }
   ],
   "source": [
    "# Prefect version\n",
    "!prefect --version"
   ]
  },
  {
   "cell_type": "markdown",
   "id": "ad9b1de4-1aeb-43b5-852a-dc18a56889c6",
   "metadata": {},
   "source": [
    "### Question 3. Creating a pipeline\n",
    "\n",
    "Let's download and read the March 2023 Yellow taxi trips data."
   ]
  },
  {
   "cell_type": "code",
   "execution_count": 2,
   "id": "0d05b495-7d02-48a4-ac40-aa0a705e1b4e",
   "metadata": {},
   "outputs": [
    {
     "name": "stdout",
     "output_type": "stream",
     "text": [
      "  % Total    % Received % Xferd  Average Speed   Time    Time     Time  Current\n",
      "                                 Dload  Upload   Total   Spent    Left  Speed\n",
      "100 53.5M  100 53.5M    0     0  1197k      0  0:00:45  0:00:45 --:--:-- 1183k\n"
     ]
    }
   ],
   "source": [
    "# Download March data\n",
    "!curl -O https://d37ci6vzurychx.cloudfront.net/trip-data/yellow_tripdata_2023-03.parquet"
   ]
  },
  {
   "cell_type": "code",
   "execution_count": 3,
   "id": "a4e94bd1-460d-4bc2-8232-230c68a58929",
   "metadata": {},
   "outputs": [
    {
     "name": "stdout",
     "output_type": "stream",
     "text": [
      "-rw-r--r--@ 1 cm-mboulou-mac  staff    54M Jun 13 06:37 yellow_tripdata_2023-03.parquet\n"
     ]
    }
   ],
   "source": [
    "# List data file\n",
    "!ls -lh yellow*"
   ]
  },
  {
   "cell_type": "code",
   "execution_count": 4,
   "id": "8c1b4d7f-68f8-4ef8-a776-11c49582e6fe",
   "metadata": {},
   "outputs": [
    {
     "name": "stdout",
     "output_type": "stream",
     "text": [
      "Python 3.9.18\n"
     ]
    }
   ],
   "source": [
    "# Necessary import\n",
    "import pandas as pd\n",
    "import numpy as np\n",
    "from sklearn.feature_extraction import DictVectorizer\n",
    "from sklearn.linear_model import LinearRegression\n",
    "from sklearn.metrics import root_mean_squared_error\n",
    "\n",
    "# Python version\n",
    "!python --version"
   ]
  },
  {
   "cell_type": "code",
   "execution_count": 5,
   "id": "c3335483-c2c8-4ea7-aec2-b5f267dd6aad",
   "metadata": {},
   "outputs": [
    {
     "name": "stdout",
     "output_type": "stream",
     "text": [
      "Number of rows: 3403766.\n"
     ]
    }
   ],
   "source": [
    "# Read the data\n",
    "df = pd.read_parquet(\"yellow_tripdata_2023-03.parquet\")\n",
    "# Number of observations\n",
    "print(f\"Number of rows: {len(df)}.\")"
   ]
  },
  {
   "cell_type": "markdown",
   "id": "1be86fe5-de20-4983-a1b2-b002a19d811e",
   "metadata": {},
   "source": [
    "\n",
    "### Question 4. Data preparation\n",
    "\n",
    "Let's continue with pipeline creation.\n",
    "\n",
    "We will use the same logic for preparing the data we used previously. \n",
    "\n",
    "This is what we used (adjusted for yellow dataset):\n",
    "\n",
    "```python\n",
    "def read_dataframe(filename):\n",
    "    df = pd.read_parquet(filename)\n",
    "\n",
    "    df['duration'] = df.tpep_dropoff_datetime - df.tpep_pickup_datetime\n",
    "    df.duration = df.duration.dt.total_seconds() / 60\n",
    "\n",
    "    df = df[(df.duration >= 1) & (df.duration <= 60)]\n",
    "\n",
    "    categorical = ['PULocationID', 'DOLocationID']\n",
    "    df[categorical] = df[categorical].astype(str)\n",
    "    \n",
    "    return df\n",
    "```\n",
    "\n",
    "For running our workflow with Prefect, we will:\n",
    "\n",
    "- Launch `MLFlow`:\n",
    "```sh\n",
    "mlflow server \\\n",
    "    --backend-store-uri sqlite:///mlflow.db\n",
    "```\n",
    "- Launch `Prefect`:\n",
    "```sh\n",
    "prefect server start\n",
    "```\n",
    "- Configure Prefect locally:\n",
    "```sh\n",
    "prefect config set PREFECT_API_URL=http://127.0.0.1:4200/api\n",
    "```\n",
    "- Run the orchestration script:\n",
    "```sh\n",
    "python homework.py --year=2023 --month=3\n",
    "```"
   ]
  },
  {
   "cell_type": "code",
   "execution_count": 6,
   "id": "bf466752-414e-4fb6-9d3e-7db9b815785b",
   "metadata": {},
   "outputs": [
    {
     "name": "stdout",
     "output_type": "stream",
     "text": [
      "22:35:50.224 | \u001b[36mINFO\u001b[0m    | Flow run\u001b[35m 'sociable-donkey'\u001b[0m - Beginning flow run\u001b[35m 'sociable-donkey'\u001b[0m for flow\u001b[1;35m 'main-flow'\u001b[0m\n",
      "22:35:50.226 | \u001b[36mINFO\u001b[0m    | Flow run\u001b[35m 'sociable-donkey'\u001b[0m - View at \u001b[94mhttp://127.0.0.1:4200/runs/flow-run/dc814097-6d49-44fc-b850-68b1f5bd0970\u001b[0m\n",
      "2025/06/14 22:35:50 INFO mlflow.tracking.fluent: Experiment with name 'nyc-taxi-experiment' does not exist. Creating a new experiment.\n",
      "Number of rows before preprocessing: 3403766.\n",
      "Number of rows after preprocessing: 3316216.\n",
      "22:36:42.797 | \u001b[36mINFO\u001b[0m    | Task run 'read_dataframe-551' - Finished in state \u001b[32mCompleted\u001b[0m()\n",
      "🏃 View run adorable-chimp-52 at: http://127.0.0.1:5000/#/experiments/1/runs/5c67f7a6b3a84f469fff5d245c993ce0\n",
      "🧪 View experiment at: http://127.0.0.1:5000/#/experiments/1\n",
      "22:37:24.374 | \u001b[36mINFO\u001b[0m    | Task run 'train_model-1ce' - Finished in state \u001b[32mCompleted\u001b[0m()\n",
      "Model Intercept: 24.78\n",
      "Successfully registered model 'nyc-yellow-taxi-regressor'.\n",
      "2025/06/14 22:37:24 INFO mlflow.store.model_registry.abstract_store: Waiting up to 300 seconds for model version to finish creation. Model name: nyc-yellow-taxi-regressor, version 1\n",
      "Created version '1' of model 'nyc-yellow-taxi-regressor'.\n",
      "22:37:24.496 | \u001b[36mINFO\u001b[0m    | Task run 'register_model-a08' - Finished in state \u001b[32mCompleted\u001b[0m()\n",
      "22:37:24.587 | \u001b[36mINFO\u001b[0m    | Flow run\u001b[35m 'sociable-donkey'\u001b[0m - Finished in state \u001b[32mCompleted\u001b[0m()\n"
     ]
    }
   ],
   "source": [
    "# Run our orchestration script\n",
    "!python homework.py --year=2023 --month=3"
   ]
  },
  {
   "cell_type": "markdown",
   "id": "f9d3951a-a25b-495b-a100-bd83d2e836ea",
   "metadata": {},
   "source": [
    "The size of the result is `3,316,216`."
   ]
  },
  {
   "cell_type": "markdown",
   "id": "c47d1f79-8408-4b56-8fc9-c5d349f667a1",
   "metadata": {},
   "source": [
    "### Question 5. Train a model\n",
    "\n",
    "We will now train a linear regression model using the same code as in homework 1, to use it in our pipeline:\n",
    "\n",
    "* Fit a dict vectorizer.\n",
    "* Train a linear regression with default parameters.\n",
    "* Use pick up and drop off locations separately.\n",
    "\n",
    "The intercept of the model is `24.77`."
   ]
  },
  {
   "cell_type": "markdown",
   "id": "858a0059-91f7-47fa-9816-7a72f1e5504b",
   "metadata": {},
   "source": [
    "### Question 6. Register the model \n",
    "\n",
    "The model is trained and saved with MLFlow.\n",
    "\n",
    "After finding the logged model, and the MLModel file. its size (`model_size_bytes` field) is: `4,534`."
   ]
  },
  {
   "cell_type": "markdown",
   "id": "1e2b6a55-6f22-44d6-b5ff-962e6f540f9a",
   "metadata": {},
   "source": [
    "---"
   ]
  }
 ],
 "metadata": {
  "kernelspec": {
   "display_name": "Python 3 (ipykernel)",
   "language": "python",
   "name": "python3"
  },
  "language_info": {
   "codemirror_mode": {
    "name": "ipython",
    "version": 3
   },
   "file_extension": ".py",
   "mimetype": "text/x-python",
   "name": "python",
   "nbconvert_exporter": "python",
   "pygments_lexer": "ipython3",
   "version": "3.9.18"
  }
 },
 "nbformat": 4,
 "nbformat_minor": 5
}
